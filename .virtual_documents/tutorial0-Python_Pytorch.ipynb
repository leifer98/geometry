















































# This is a code cell; it can contain arbitrary python code.

foo = 'bar'
print(foo)

def the_answer():
    return 42

# The output of the last expression in a cell is shown
2*the_answer()
the_answer()





ans = the_answer()


ans








%matplotlib inline
%load_ext autoreload
%autoreload 2


%timeit the_answer()


























def quicksort(arr):
    if len(arr) <= 1:
        return arr
    pivot = arr[len(arr) // 2]
    left = [x for x in arr if x < pivot]
    middle = [x for x in arr if x == pivot]
    right = [x for x in arr if x > pivot]
    return quicksort(left) + middle + quicksort(right)

print(quicksort([3,6,8,10,1,2,1]))











# Import packages from the python standard library
import math
import sys





# Import just a specific function from a specific module from a specific package
from demo_package.demo_module import demo_func

demo_func(math.pi)
print('FOO', file=sys.stdout)











x = 3
print(x, type(x))


print(x + 1)  # Addition;
print(x - 1)  # Subtraction;
print(x * 2)  # Multiplication;
print(x ** 2)  # Exponentiation;


x += 1
print(x)
x *= 2
print(x)


y = 2.5
print(type(y))
print(y, y + 1, y * 2, y ** 2, y / 2, y // 2)











t, f = True, False





print(t and f) # Logical AND
print(t or f ) # Logical OR
print(not t  ) # Logical NOT
print(t != f ) # Logical XOR





hello = 'hello'   # String literals can use single quotes
world = "world"   # or double quotes; it does not matter.
hello, len(hello)


# String concatenation
'aaa ' + 'bbb'





s = 'hello'
a = [1,2,3]

# sprintf style string formatting
print('%s %s: pi=%.5f' % (s, a, math.pi))

# formatting with f-string literals (python 3.6+)
print(f'{s} {a}: pi={math.pi:.5f}')





s = "hello"
print(s.capitalize() ) # Capitalize a string; prints "Hello"
print(s.upper()      ) # Convert a string to uppercase; prints "HELLO"
print(s.rjust(7)     ) # Right-justify a string, padding with spaces; prints "  hello"
print(s.center(7)    ) # Center a string, padding with spaces; prints " hello "
print(s.replace('l', '(ell)'))  # Replace all instances of one substring with another
print('  world '.strip())  # Strip leading and trailing whitespace; prints "world"

















xs = [3, 1, 2]   # Create a list
print(xs)
print(xs[2], xs[-1]) # Negative indices count from the end of the list; prints "2"


xs[2] = 'foo'    # Lists can contain elements of different types
print(xs)


xs.append('bar') # Add a new element to the end of the list
print(xs)


x = xs.pop()     # Remove and return the last element of the list
x, xs








nums = list(range(5))
nums


nums[2:4]    # Get a slice from index 2 to 4 (exclusive)


nums[2:]     # Get a slice from index 2 to the end


nums[:2]     # Get a slice from the start to index 2 (exclusive)


nums[:]      # Get a slice of the whole list


nums[:-1]    # Slice indices can be negative


nums[0:4:2]  # Can also specify slice step size


nums[2:4] = [8, 9] # Assign a new sublist to a slice
nums


# Delete elements from a list
nums[0:1] = []
del nums[-1]
nums








animals = ['cat', 'dog', 'monkey']
for animal in animals:
    print(animal)





animals = ['cat', 'dog', 'monkey']
for idx, animal in enumerate(animals):
    print(f'#{idx+1}: {animal}')








nums = [0, 1, 2, 3, 4]
squares = []
for x in nums:
    squares.append(x ** 2)
squares





squares = [x ** 2 for x in nums]
squares





even_squares = [x ** 2 for x in nums if x % 2 == 0]
even_squares





nums2 = [-1, 1]
[x * y for x in nums for y in nums2]








d = {'cat': 'cute', 'dog': 'furry'}  # Create a new dictionary with some data
print(d['cat'])       # Get an entry from a dictionary
print('cat' in d)     # Check if a dictionary has a given key


d['fish'] = 'wet'    # Set an entry in a dictionary
d


# Trying to access a non-existing key raises a KeyError
try:
    d['monkey']
except KeyError as e:
    print(e, file=sys.stderr)


print(d.get('monkey', 'N/A'))  # Get an element with a default
print(d.get('fish', 'N/A'))    # Get an element with a default


del d['fish']        # Remove an element from a dictionary
d


# Iteration over keys
d = {'person': 2, 'cat': 4, 'spider': 8}
for animal in d:
    print(f'A {animal} has {d[animal]} legs')


# Iterate over key-value pairs
d = {'person': 2, 'cat': 4, 'spider': 8}
for animal, num_legs in d.items():
    print(f'A {animal} has {num_legs} legs')


# Create a dictionary using the built-in dict() function
dict(foo=1, bar=2, baz=3)








nums = [0, 1, 2, 3, 4]
even_num_to_square = {x: x ** 2 for x in nums if x % 2 == 0}
even_num_to_square








animals = {'cat', 'dog'}
print(animals)
print('cat' in animals )  # Check if an element is in a set
print('fish' in animals) # prints "False"


animals.add('fish') # Add an element to a set
print('fish' in animals)
len(animals) # Number of elements in a set


animals.add('cat')       # Adding an element that is already in the set does nothing
animals





animals = {'cat', 'dog', 'fish'}
for idx, animal in enumerate(animals):
    print(f'#{idx}: {animal}')








from math import sqrt
s = {int(sqrt(x)) for x in range(37)}
s








t = (1, 2, 'three')
t





t[0:1], t[1:3], t[-1], len(t)





d = {(x, x + 1): x for x in range(10)}  # Create a dictionary with tuple keys
d





one, two, three = t
one, two, three











def sign(x):
    if x > 0:
        return 'positive'
    elif x < 0:
        return 'negative'
    else:
        return 'zero'

for x in [-1, 0, 1]:
    print(sign(x))





def hello(name, loud=False):
    if loud:
        print('HELLO, %s' % name.upper())
    else:
        print('Hello, %s!' % name)

hello('Bob')
hello('Fred', loud=True)








def myfunc(a1, a2, a3, *extra_args, kw1='foo', kw2='bar', kw3=3, **extra_kwargs):
    print(f'Got positional args: {(a1, a2, a3)}')
    print(f'Got keyword args   : {dict(kw1=kw1, kw2=kw3, kw3=kw3)}')
    print(f'Got extra positional args: {extra_args}')
    print(f'Got extra keyword args: {extra_kwargs}')





myfunc(1,2,3,4,5,6)


my_args = [1,2,3,4]
myfunc(*my_args)


myfunc(1,2,3, kw3=3, kw2=2, foo='bar')


my_kwargs = dict(kw1=1, kw2=2, kw3=3, kw4=4)
myfunc(1,2,3, **my_kwargs)





try:
    myfunc(1,2)
except TypeError as e:
    print(e, file=sys.stderr)








class Greeter:

    # Constructor
    def __init__(self, name):
        self.name = name  # Create an instance variable

    # Instance method
    def greet(self, loud=False):
        if loud:
            print('HELLO, %s!' % self.name.upper())
        else:
            print('Hello, %s' % self.name)

g = Greeter('Fred')  # Construct an instance of the Greeter class
g.greet()            # Call an instance method
g.greet(loud=True)   # Call an instance method





class ExampleCollection(object):
    def __init__(self):
        self.items = [100, 200, 300]
    
    def __len__(self):
        return len(self.items)
    
    def __getitem__(self, idx):
        return self.items[idx]
    
    def __iter__(self):
        class ExampleIter():
            def __init__(self, collection):
                self.idx = 0
                self.collection = collection
                
            def __next__(self):
                if self.idx >= len(self.collection):
                    raise StopIteration()
                x = self.collection[self.idx]
                self.idx += 1
                return x
                
        return ExampleIter(self)
    


example = ExampleCollection()
print('length=', len(example)) # invokes __len__
print('example[0]=', example[0]) # invokes __getitem__


for x in example: # invokes __iter__ and it's __next__
    print(x)




















import torch











a = torch.tensor([1, 2, 3.])  # Create a rank 1 array
a


# Indexing always returns tensors
a[0]


# Use .item() to get a python scalar 
a[0].item()





def print_arr(arr, pre_text=''):
    print(f'shape={tuple(arr.shape)} dtype={arr.dtype}:')
    print(f'{pre_text}{arr}\n')


print_arr(a)


a[0] = 5                 # Change an element of the array
a


b = torch.tensor([[1,2,3],[4,5,6.7]])   # Create a rank 2 array
print_arr(b)


b[0, 0], b[0, 1], b[1, 0]





torch.zeros((2, 2))  # Create an array of all zeros


torch.ones((1, 10))   # Create an array of all ones


torch.full((3, 3), 7.2) # Create a constant array


torch.eye(4, dtype=torch.int) # Create an identity matrix of integers


t = torch.rand((4,4,3)) # Create a 3d-array filled with U[0,1] random values
t








a0 = torch.tensor(17)
print_arr(a0)


# Get scalar as a python float
a0.item()





# A rank-1 array
a1 = torch.tensor([1,2,3])

print_arr(a1)


# A rank-1 array scalar
print_arr(torch.tensor([3.14]))





a2 = torch.tensor([[1,2,3], [4,5,6]])

print_arr(a2)





a_col = a1.reshape(-1, 1)

print_arr(a_col)





a_row = a1.reshape(1, -1)

print_arr(a_row)





print_arr(torch.zeros((2,3,4)))


print_arr(torch.ones((2,2,2,2)))








x = torch.tensor([[1,2],[3,4]], dtype=torch.float)
y = torch.tensor([[5,6],[7,8]], dtype=torch.float)

# Elementwise basic math
print_arr(x + y)


print_arr(x - y)


print_arr(x * y)


print_arr(x / y)


# Elementwise functions
print_arr(torch.sqrt(x))


print_arr(torch.exp(x))


print_arr(torch.log(x))








v = torch.tensor([9,10])
w = torch.tensor([11, 12])

# Inner product of vectors; both produce 219
print(torch.matmul(v, w))
print(torch.dot(v, w))  # dot() is for 1d-tensors only
print(v @ w)





print_arr(a1, 'a1\t\t')
print_arr(a_row, 'a_row\t\t')
print_arr(a_col, 'a_col\t\t')


# Inner products, but output dimenstions are different
print_arr(torch.matmul(a1, a1), 'a1 @ a1 =\t')
assert torch.matmul(a1, a1) == a1 @ a1

print_arr(torch.matmul(a_row, a1), 'a_row @ a1 =\t')
assert torch.matmul(a_row, a1) == a_row @ a1

print_arr(torch.matmul(a1, a_col), 'a1 @ a_col =\t')
assert torch.matmul(a1, a_col) == a1 @ a_col

print_arr(torch.matmul(a_row, a_col), 'a_row @ a_col =\t')
assert torch.matmul(a_row, a_col) == a_row @ a_col

# Outer product
print_arr(torch.matmul(a_col, a_row), 'a_col @ a_row =\n')
assert torch.all(torch.matmul(a_col, a_row) == a_col @ a_row)





x = torch.tensor([[1,2,3],[3,4,5]], dtype=torch.float)
print_arr(x)


print_arr(torch.sum(x))  # Compute sum of all elements
print_arr(torch.mean(x, dim=0))  # Compute mean of each column
print_arr(torch.prod(x, dim=1)) # Compute product of each row


# In many cases, it's useful to aggregate but keep the original rank
print_arr(torch.mean(x, dim=0, keepdim=True))
print_arr(torch.prod(x, dim=1, keepdim=True))














a = torch.tensor([[1,2,3,4], [5,6,7,8], [9,10,11,12]])

print_arr(a)


b = a[:2, 1:3]

print_arr(b)





# Changing a view
b[0, 0] = 77777

# ...modifies original
a








a = torch.tensor([[1,2,3,4], [5,6,7,8], [9,10,11,12]])
a


row_r1 = a[1, :]    # Rank 1 view of the second row of a  
row_r2 = a[1:2, :]  # Rank 2 view of the second row of a
row_r3 = a[[1], :]  # Rank 2 view of the second row of a

print_arr(row_r1)
print_arr(row_r2)
print_arr(row_r3)


# We can make the same distinction when accessing columns of an array:
col_r1 = a[:, 1]
col_r2 = a[:, 1:2]

print_arr(col_r1)
print_arr(col_r2)





a = torch.tensor([[1,2], [3, 4], [5, 6]])
print_arr(a)


# An example of integer array indexing.
# The returned array will have shape (3,)
print_arr(a[ [0, 1, 2], [0, 1, 0] ])


# The above example of integer array indexing is equivalent to this:
print_arr(torch.tensor([a[0, 0], a[1, 1], a[2, 0]]))


# When using integer array indexing, you can reuse the same
# element from the source array:
print(a[[0, 0], [1, 1]])

# Equivalent to the previous integer array indexing example
print(torch.tensor([a[0, 1], a[0, 1]]))





# Create a new array from which we will select elements
a = torch.tensor([[1,2,3], [4,5,6], [7,8,9], [10, 11, 12]])
a


# Create an array of column indices (notice it can repeat)
col_idx = torch.tensor([0, 2, 0, 1])

# Select one element from each row of a using the indices in b
a[torch.arange(4), col_idx]


# Mutate one element from each row of a using the indices in b
a[torch.arange(4), col_idx] += 1000
a





a = torch.tensor([[1,2], [3, 4], [5, 6]])
print_arr(a)


# Find the elements of a that are bigger than 2;
# this returns a numpy array of Booleans of the same
# shape as a, where each slot of bool_idx tells
# whether that element of a is > 2.
bool_idx = (a > 2)
bool_idx


# We use boolean array indexing to construct a rank 1 array
# consisting of the elements of a corresponding to the True values
# of bool_idx
a[a>2]








x = torch.tensor([1, 2])  # Let torch choose the datatype
y = torch.tensor([1.0, 2.0])  # Let torch choose the datatype
z = torch.tensor([1, 2], dtype=torch.int64)  # Force a particular datatype

x.dtype, y.dtype, z.dtype








a = torch.ones((3, 5))
print_arr(a.transpose(0, 1))
print_arr(a.T)





a = torch.ones((2, 4, 6))
a[1,2,3] = 777

print_arr(a.permute(1,0,2))








a = torch.randint(0, 100, (3, 6))
print_arr(a)

print_arr(torch.reshape(a, (2, 9)))








a = torch.tensor([[1, 2], [3, 4]])
b = torch.tensor([[5, 6]])
print_arr(a)
print_arr(b)


print_arr(torch.cat((a, b), dim=0))


print_arr(torch.cat((a, b.T), dim=1))











# We will add the vector v to each row of the matrix x,
# storing the result in the matrix y
x = torch.tensor([[1,2,3], [4,5,6], [7,8,9], [10, 11, 12]])
v = torch.tensor([1, 0, 1])

print_arr(x,'x=\n')
print_arr(v, '\nv=')





y = torch.empty_like(x)   # Create an empty matrix with the same shape as x

# Add the vector v to each row of the matrix x with an explicit loop
for i in range(4):
    y[i, :] = x[i, :] + v

y








vv = torch.tile(v, (4, 1))  # Stack 4 copies of v on top of each other
vv


y = x + vv  # Add x and vv elementwise
y








x = torch.tensor([[1,2,3], [4,5,6], [7,8,9], [10, 11, 12]])
v = torch.tensor([1, 0, 1])

# Add v to each row of x using broadcasting
y = x + v  

print(f'shapes: x={tuple(x.shape)}, v={tuple(v.shape)}\n')
print_arr(y)

















# Compute outer product of the vectors
v = torch.tensor([1,2,3])  # v has shape (3,)
w = torch.tensor([4,5])    # w has shape (2,)
print_arr(v)
print_arr(w)





# (3,1) * (2,) -> (3,1) * (1, 2) -> (3, 2) * (3, 2)
torch.reshape(v, (3, 1)) * w # note that * is elementwise!


# Multiply a matrix by a constant:
x = torch.ones((2,3))

# x has shape (2, 3). Numpy treats scalars as arrays of shape ();
# these can be broadcast together to shape (2, 3).

# (2,3) * () -> (2,3) * (1,1) -> (2,3) * (2,3)
x * 2











# Tell pytorch to track operations w.r.t. this tensor
w = torch.tensor([1, 2, 3], dtype=torch.float32, requires_grad=True)
w


# Do some arbitrary calculations with w
x = 2*w
y = torch.exp(-x)
z = y ** 3 - 2
z


# Aggregate so that we get a scalar
l = torch.sum(z)
l





from torch import autograd

# This is where the magic happens
w_grad = autograd.grad(l, w)
w_grad














import torchviz

torchviz.make_dot(l, params=dict(w=w, l=l))



