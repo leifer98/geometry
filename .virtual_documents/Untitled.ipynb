import numpy as np
import matplotlib.pyplot as plt
from scipy.signal import convolve2d
from scipy.ndimage import gaussian_filter
from skimage import data, color


# Load a sample image
image = color.rgb2gray(data.coffee())  # Convert a sample RGB image to grayscale
image = image / 255.0  # Normalize pixel intensities to range [0, 1]

# Display the original image
plt.figure(figsize=(6, 6))
plt.title("Original Image")
plt.imshow(image, cmap="gray")
plt.axis("off")
plt.show()


# Define a discrete Laplacian kernel
laplacian_kernel = np.array([[0,  1, 0],
                             [1, -4, 1],
                             [0,  1, 0]])

def heat_equation_simulation(image, laplacian_kernel, time_steps, delta_t=0.1):
    """
    Simulate the heat equation on a grayscale image.
    
    Parameters:
        image (ndarray): The input image.
        laplacian_kernel (ndarray): The kernel for computing the Laplacian.
        time_steps (int): Number of time steps to simulate.
        delta_t (float): Time step size.
        
    Returns:
        ndarray: The final image after evolution.
    """
    u = image.copy()  # Initialize the image
    for _ in range(time_steps):
        # Compute Laplacian using 2D convolution
        laplacian = convolve2d(u, laplacian_kernel, mode="same", boundary="symm")
        # Update the image using the heat equation
        u += delta_t * laplacian
    return u


# Parameters
time_steps = 50  # Number of time steps
delta_t = 0.1    # Time step size

# Simulate the heat equation
smoothed_image = heat_equation_simulation(image, laplacian_kernel, time_steps, delta_t)

# Display the smoothed image
plt.figure(figsize=(12, 6))
plt.subplot(1, 2, 1)
plt.title("Original Image")
plt.imshow(image, cmap="gray")
plt.axis("off")

plt.subplot(1, 2, 2)
plt.title(f"Smoothed Image (After {time_steps} Steps)")
plt.imshow(smoothed_image, cmap="gray")
plt.axis("off")

plt.show()


from skimage import data, color
import matplotlib.pyplot as plt

# Load the coffee image
image = data.coffee()
gray_image = color.rgb2gray(image)  # Convert to grayscale
gray_image = gray_image / 255.0     # Normalize to range [0, 1]

# Example usage: Create a sample grid
grid = np.zeros((10, 10))
grid[1:9, 1:9] = 1  # A small block of "heat"

# Display the original grayscale image
plt.figure(figsize=(6, 6))
plt.title("Original Grayscale Image (data.coffee)")
plt.imshow(gray_image, cmap='gray')

# plt.imshow(grid, cmap='gray')

plt.axis("off")
plt.show()


import numpy as np
from scipy.signal import convolve2d

# Define the Laplacian stencil
laplacian_stencil = np.array([[0, 1, 0],
                               [1, -4, 1],
                               [0, 1, 0]])

def compute_laplacian(grid, boundary='symm'):
    """
    Compute the discrete Laplacian of a 2D grid using the central difference method.
    
    Parameters:
        grid (ndarray): 2D array representing the image or function values.
        boundary (str): Boundary condition ('fill', 'symm', 'wrap').
                        - 'fill': Fixed boundary (Dirichlet), pads with zeros.
                        - 'symm': Mirrored boundary (Neumann).
                        - 'wrap': Periodic boundary (wrap around).
    
    Returns:
        ndarray: 2D array representing the Laplacian at each grid point.
    """
    laplacian = convolve2d(grid, laplacian_stencil, mode='same', boundary=boundary)
    return laplacian

# Compute Laplacian with different boundary conditions
laplacian_dirichlet = compute_laplacian(gray_image, boundary='fill')
laplacian_neumann = compute_laplacian(gray_image, boundary='symm')
laplacian_periodic = compute_laplacian(gray_image, boundary='wrap')

# Compute Laplacian with different boundary conditions
# laplacian_dirichlet = compute_laplacian(grid, boundary='fill')
# laplacian_neumann = compute_laplacian(grid, boundary='symm')
# laplacian_periodic = compute_laplacian(grid, boundary='wrap')


fig, axes = plt.subplots(2, 2, figsize=(12, 10))

axes[0, 0].imshow(gray_image, cmap='gray')
# axes[0, 0].imshow(grid, cmap='gray')
axes[0, 0].set_title("Original Image")
axes[0, 0].axis("off")

axes[0, 1].imshow(laplacian_dirichlet, cmap='gray')
axes[0, 1].set_title("Laplacian (Dirichlet Boundary)")
axes[0, 1].axis("off")

axes[1, 0].imshow(laplacian_neumann, cmap='gray')
axes[1, 0].set_title("Laplacian (Neumann Boundary)")
axes[1, 0].axis("off")

axes[1, 1].imshow(laplacian_periodic, cmap='gray')
axes[1, 1].set_title("Laplacian (Periodic Boundary)")
axes[1, 1].axis("off")

plt.tight_layout()
plt.show()


def heat_equation_solver(grid, laplacian_stencil, kappa, delta_t, time_steps, boundary='symm'):
    """
    Solve the heat equation using an explicit scheme.

    Parameters:
        grid (ndarray): 2D array representing the initial condition (image).
        laplacian_stencil (ndarray): Discrete Laplacian kernel.
        kappa (float): Diffusion constant.
        delta_t (float): Time step size.
        time_steps (int): Number of time steps to evolve.
        boundary (str): Boundary condition ('fill', 'symm', 'wrap').
        
    Returns:
        ndarray: The grid after time evolution.
    """
    u = grid.copy()  # Initial condition
    delta_x = 1  # Assume unit grid spacing (pixel distance)
    
    # Stability check
    stability_condition = kappa * delta_t / (delta_x ** 2)
    if stability_condition > 0.25:
        raise ValueError(f"Stability condition violated: κ·Δt/(Δx)^2 = {stability_condition:.2f} > 0.25")
    
    for _ in range(time_steps):
        laplacian = convolve2d(u, laplacian_stencil, mode='same', boundary=boundary)
        u += kappa * delta_t * laplacian  # Update using explicit scheme
    
    return u

# Parameters for the heat equation
kappa = 0.1       # Diffusion constant
delta_t = 0.01    # Time step size
time_steps = 100  # Number of time steps

# Solve the heat equation
final_image = heat_equation_solver(gray_image, laplacian_stencil, kappa, delta_t, time_steps, boundary='symm')

# Display the initial and final images
fig, axes = plt.subplots(1, 2, figsize=(12, 6))
axes[0].imshow(gray_image, cmap='gray')
axes[0].set_title("Initial Image")
axes[0].axis("off")

axes[1].imshow(final_image, cmap='gray')
axes[1].set_title(f"Image After {time_steps} Steps")
axes[1].axis("off")

plt.tight_layout()
plt.show()



